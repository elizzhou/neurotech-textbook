{
  "nbformat": 4,
  "nbformat_minor": 0,
  "metadata": {
    "colab": {
      "provenance": []
    },
    "kernelspec": {
      "name": "python3",
      "display_name": "Python 3"
    }
  },
  "cells": [
    {
      "cell_type": "code",
      "metadata": {
        "id": "l0eHjunCXTQR"
      },
      "source": [
        "\n",
        "# Run This First\n",
        "import numpy as np\n",
        "import matplotlib.pyplot as plt\n",
        "%matplotlib inline"
      ],
      "execution_count": null,
      "outputs": []
    },
    {
      "cell_type": "markdown",
      "metadata": {
        "id": "Y1xEPD2pvdY5"
      },
      "source": [
        "# **Intro Python and Single Neuron Models**\n",
        "Before starting **save a copy of this notebook in your own drive**. This way you can edit.\n",
        "In today's section we're going to review different python methods for computing functions and the basics of using jupyter notebooks. We will apply these skills to build and plot our first neuronal models using differential equations."
      ]
    },
    {
      "cell_type": "markdown",
      "metadata": {
        "id": "U7schrdswuHG"
      },
      "source": [
        "## **Jupyter Notebooks**\n",
        "Many of your resources will include jupyter notebooks. These documents are comprised of cells with code and text. The code will all be in python and we'll be using basic modules such as numpy for this lab.\n",
        "\n",
        "*   Run a Cell: Shift + Enter\n",
        "*  Edit a Cell: Double Click\n",
        "\n",
        "When you run a cell the last expression written will be evaluated and printed below the cell. If a value is explicitly print this will also show up under the cell after it is run.\n",
        "\n"
      ]
    },
    {
      "cell_type": "markdown",
      "metadata": {
        "id": "XshCsU1txcgv"
      },
      "source": [
        "## **Python**\n",
        "You might have some familiarity with python but it is an amazing tool for quikly computing ideas or drafting simulations. Below you'll find the basic ideas of python. Adapted from EE126 Lab0\n",
        "\n",
        "### Expressions\n",
        "Math can be done directly. We have two types of numbers, ints for integers and floats for decimal values."
      ]
    },
    {
      "cell_type": "code",
      "metadata": {
        "colab": {
          "base_uri": "https://localhost:8080/"
        },
        "id": "h2mEkOglvaud",
        "outputId": "80c6df72-8739-4d5d-8ebc-cecd61022b0f"
      },
      "source": [
        "# Integer Operations\n",
        "(5 + 4 - 3) * 2"
      ],
      "execution_count": null,
      "outputs": [
        {
          "output_type": "execute_result",
          "data": {
            "text/plain": [
              "12"
            ]
          },
          "metadata": {},
          "execution_count": 15
        }
      ]
    },
    {
      "cell_type": "code",
      "metadata": {
        "colab": {
          "base_uri": "https://localhost:8080/"
        },
        "id": "44f4JbBqRWZJ",
        "outputId": "34f60570-0a10-4e7b-b012-f8814d5cf83d"
      },
      "source": [
        "# Power\n",
        "2 ** 3"
      ],
      "execution_count": null,
      "outputs": [
        {
          "output_type": "execute_result",
          "data": {
            "text/plain": [
              "8"
            ]
          },
          "metadata": {},
          "execution_count": 16
        }
      ]
    },
    {
      "cell_type": "code",
      "metadata": {
        "colab": {
          "base_uri": "https://localhost:8080/"
        },
        "id": "3LmpmUvoRV2q",
        "outputId": "f536ba49-a65a-43ef-897a-5a31a8c2aea9"
      },
      "source": [
        "# Integer Division\n",
        "98 / 443\n",
        "# Note the above returns a float"
      ],
      "execution_count": null,
      "outputs": [
        {
          "output_type": "execute_result",
          "data": {
            "text/plain": [
              "0.22121896162528218"
            ]
          },
          "metadata": {},
          "execution_count": 17
        }
      ]
    },
    {
      "cell_type": "code",
      "metadata": {
        "colab": {
          "base_uri": "https://localhost:8080/"
        },
        "id": "t6CLcV7tRU1S",
        "outputId": "81dad4d3-15e9-4afd-ae7e-ed4bc0861a48"
      },
      "source": [
        "# Floats\n",
        "2.4 * 8.2 + 9.4"
      ],
      "execution_count": null,
      "outputs": [
        {
          "output_type": "execute_result",
          "data": {
            "text/plain": [
              "29.08"
            ]
          },
          "metadata": {},
          "execution_count": 18
        }
      ]
    },
    {
      "cell_type": "markdown",
      "metadata": {
        "id": "s8gWE3v40foh"
      },
      "source": [
        "Strings can be manipulated directly as well using addition operators more fancy expressions exist but we most likely wont need them. The print operation allows us to display text or numbers."
      ]
    },
    {
      "cell_type": "code",
      "metadata": {
        "colab": {
          "base_uri": "https://localhost:8080/"
        },
        "id": "DmvIT23N0p6c",
        "outputId": "e155027c-11ed-4542-d3c3-97b434dde88a"
      },
      "source": [
        "print('Hello' + ' ' + 'World')\n",
        "# Printing -> In general print(x, y, z) will print x y z (with spaces)\n",
        "print('Hello', 'World', '!')"
      ],
      "execution_count": null,
      "outputs": [
        {
          "output_type": "stream",
          "name": "stdout",
          "text": [
            "Hello World\n",
            "Hello World !\n"
          ]
        }
      ]
    },
    {
      "cell_type": "markdown",
      "metadata": {
        "id": "2sznxfG01qeL"
      },
      "source": [
        "### Variables\n",
        "You can store the result of a certain call in a variable. These variables have names and are assigned as followed. You can invoke the same operations above on them and can print them out."
      ]
    },
    {
      "cell_type": "code",
      "metadata": {
        "colab": {
          "base_uri": "https://localhost:8080/"
        },
        "id": "N9wumEl-19a_",
        "outputId": "86a4b1e3-13ba-4474-e4db-288337827b4c"
      },
      "source": [
        "x = 6\n",
        "y = 19\n",
        "x + y"
      ],
      "execution_count": null,
      "outputs": [
        {
          "output_type": "execute_result",
          "data": {
            "text/plain": [
              "25"
            ]
          },
          "metadata": {},
          "execution_count": 20
        }
      ]
    },
    {
      "cell_type": "markdown",
      "metadata": {
        "id": "Z05HfubWnrEo"
      },
      "source": [
        "### Numpy\n",
        "A NumPy array is the same as a list but arithmetic operations on NumPy arrays correspond to elementwise operations. Basically, numpy is a library that makes our lives easier when working with groups of data and we will use it often. \n",
        "\n",
        "Important functions:\n",
        "\n",
        "- `.shape` returns the dimensions of the array.\n",
        "\n",
        "- `.ndim` returns the number of dimensions. \n",
        "\n",
        "- `.size` returns the number of entries in the array.\n",
        "\n",
        "- `len()` returns the first dimension.\n",
        "\n",
        "\n",
        "To use functions in NumPy, we have to import NumPy to our workspace. This is done by the command `import numpy`. By convention, we rename `numpy` as `np` for convenience."
      ]
    },
    {
      "cell_type": "code",
      "metadata": {
        "colab": {
          "base_uri": "https://localhost:8080/"
        },
        "id": "gP3vn8BVnqDL",
        "outputId": "b6662520-632e-4afd-d7be-2fd368a08023"
      },
      "source": [
        "# by convention, import numpy as np\n",
        "import numpy as np\n",
        "\n",
        "x = np.array([[1, 2, 3], [4, 5, 6]])\n",
        "\n",
        "print(x)"
      ],
      "execution_count": null,
      "outputs": [
        {
          "output_type": "stream",
          "name": "stdout",
          "text": [
            "[[1 2 3]\n",
            " [4 5 6]]\n"
          ]
        }
      ]
    },
    {
      "cell_type": "code",
      "metadata": {
        "colab": {
          "base_uri": "https://localhost:8080/"
        },
        "id": "2EiwKDoqZE2q",
        "outputId": "758316cf-37ce-4739-a832-c02dc6e03306"
      },
      "source": [
        "print(\"Number of Dimensions:\", x.ndim)"
      ],
      "execution_count": null,
      "outputs": [
        {
          "output_type": "stream",
          "name": "stdout",
          "text": [
            "Number of Dimensions: 2\n"
          ]
        }
      ]
    },
    {
      "cell_type": "code",
      "metadata": {
        "colab": {
          "base_uri": "https://localhost:8080/"
        },
        "id": "KSUxfUgKZIQN",
        "outputId": "bf0554e8-5b49-4adf-fb3c-807ea575b5c9"
      },
      "source": [
        "print(\"Dimensions:\", x.shape)"
      ],
      "execution_count": null,
      "outputs": [
        {
          "output_type": "stream",
          "name": "stdout",
          "text": [
            "Dimensions: (2, 3)\n"
          ]
        }
      ]
    },
    {
      "cell_type": "code",
      "metadata": {
        "colab": {
          "base_uri": "https://localhost:8080/"
        },
        "id": "2qlJOuGAZNIB",
        "outputId": "294ddd41-1112-4af3-c5d3-a5279aaa8977"
      },
      "source": [
        "a = np.array([1, 2, 3])\n",
        "\n",
        "print(\"a = \", a)\n",
        "\n",
        "# elementwise arithmetic\n",
        "print(\"a * a = \", a * a)"
      ],
      "execution_count": null,
      "outputs": [
        {
          "output_type": "stream",
          "name": "stdout",
          "text": [
            "a =  [1 2 3]\n",
            "a * a =  [1 4 9]\n"
          ]
        }
      ]
    },
    {
      "cell_type": "code",
      "metadata": {
        "colab": {
          "base_uri": "https://localhost:8080/"
        },
        "id": "Vzbw5pZKZPFA",
        "outputId": "6647f13a-4d91-4a49-efe0-a4ea480d5908"
      },
      "source": [
        "b = np.array(np.ones((3, 3))) * 2\n",
        "print(\"b =\\n\", b)\n",
        "c = np.array(np.ones((3, 3)))\n",
        "print(\"c =\\n\", c)"
      ],
      "execution_count": null,
      "outputs": [
        {
          "output_type": "stream",
          "name": "stdout",
          "text": [
            "b =\n",
            " [[2. 2. 2.]\n",
            " [2. 2. 2.]\n",
            " [2. 2. 2.]]\n",
            "c =\n",
            " [[1. 1. 1.]\n",
            " [1. 1. 1.]\n",
            " [1. 1. 1.]]\n"
          ]
        }
      ]
    },
    {
      "cell_type": "markdown",
      "metadata": {
        "id": "QVRg-LhdZcDO"
      },
      "source": [
        "Element Wise Operations\n",
        "\n",
        "You can subtract add and do other basic operations element wise on numpy arrays using a simple operator.\n"
      ]
    },
    {
      "cell_type": "code",
      "metadata": {
        "colab": {
          "base_uri": "https://localhost:8080/"
        },
        "id": "hniwh0ieZRtk",
        "outputId": "6a9faf91-2fa2-405c-de8d-bd16e53f61cf"
      },
      "source": [
        "print(\"b * c =\\n\", b * c)"
      ],
      "execution_count": null,
      "outputs": [
        {
          "output_type": "stream",
          "name": "stdout",
          "text": [
            "b * c =\n",
            " [[2. 2. 2.]\n",
            " [2. 2. 2.]\n",
            " [2. 2. 2.]]\n"
          ]
        }
      ]
    },
    {
      "cell_type": "markdown",
      "metadata": {
        "id": "0AViWU0sZtAv"
      },
      "source": [
        "Matrix Multiplication\n",
        "\n",
        "For matrix multiplications or dot products use the dot operator"
      ]
    },
    {
      "cell_type": "code",
      "metadata": {
        "colab": {
          "base_uri": "https://localhost:8080/"
        },
        "id": "t-iBuiRTZUnt",
        "outputId": "3613e579-4f6a-4d8d-d45e-18d85cbad3e5"
      },
      "source": [
        "print(\"b * c =\\n\", np.dot(b, c))"
      ],
      "execution_count": null,
      "outputs": [
        {
          "output_type": "stream",
          "name": "stdout",
          "text": [
            "b * c =\n",
            " [[6. 6. 6.]\n",
            " [6. 6. 6.]\n",
            " [6. 6. 6.]]\n"
          ]
        }
      ]
    },
    {
      "cell_type": "markdown",
      "metadata": {
        "id": "73B9AvR_wGwh"
      },
      "source": [
        "## **Biological Neuron Simulations**\n",
        "From lecture we discussed the different parts of a neuron and the propogation of **Action Potentials**. In this notebook we will model the biological structures involved in an action potential as basic circuit components. We do this to derive a function that will fully simulate the potential of a spiking neuron.\n",
        "\n",
        "### Action Potential Biology\n",
        "The neuron membrane is a complex structure but there are really three key components that we must include in our model to best simulate a spike. As we saw in lecture the membrane includes\n",
        "\n",
        "*   Ion Gates\n",
        "*   Ion Pumps\n",
        "\n",
        "Using these main components and the membrane itself that holds charge due to the ion differential, we can create a rough circuit simulation using these three components where.\n",
        "\n",
        "*   Ion Channels: Resistors\n",
        "*   Pumps (Resting Charge Gradient): Batteries\n",
        "*   Membrane Charge: Capacitors\n",
        " \n",
        "\n",
        "In our model, the voltage across the membrane is modeled by how easy it is for ions to move across the membrane channels (Resistors) and the resting gradient that the pumps create (Battery) while the membrane itself is an insulating material with a differential of charge on either side (Capacitor).\n",
        "\n",
        "![circuit](http://umdberg.pbworks.com/f/1593196173/Ex2P1f1.jpg)\n",
        "\n",
        "This circuit is an **RC Circuit** and is a very basic circuit type with a simple analysis. The intuition behind any RC circuit includes a **time constant** and a **equilibrium state**. Lets take a single ion channel and the membrane capacitor. The equation below then models the voltage across the membrane due to sodium ion movement. The current value **I** mentioned is an input current simulating a excitatory input to the membrane. \n",
        "\n",
        "$$C\\frac{dV}{dt} = \\frac{-(V - V_{Na})}{R_{Na}} + I_{ext}$$\n",
        "\n",
        "The **equilibrium state** of our circuit would be the equilibrium voltage created by sodium ions pumps added to the volage across the resistor due to current. However with the absence of such a current we derive just the equilibrium potential of sodium.\n",
        "$$V_{Na} + R_{Na}I_{ext}$$\n",
        "**When the circuit is in rest (extended usage or no usage), the voltage across the membrane approaches this equilibrium state.**\n",
        "\n",
        "The **time constant** is a rate that describes how fast the voltage changes to reach this equilibrium state when it is not in equilibrium. **A smaller time constant means that it is easier for ions to travel across the membrane so the voltage changes faster**\n",
        "$$\\tau = R_{Na}C$$\n",
        "\n",
        " Using differential equations we can solve for the voltage across the membrane. This model however doesn't include a spike which will come from the **voltage gated channels** we talked about in lecture. We will use Euler approximations on the above differential to draw an approximate discrete time interval graph of the voltage.\n",
        "\n",
        " **Play around with different input traces and other parameters of the model below**\n"
      ]
    },
    {
      "cell_type": "code",
      "metadata": {
        "colab": {
          "base_uri": "https://localhost:8080/",
          "height": 573
        },
        "id": "xYZy8We_lId3",
        "outputId": "8f851fe1-c764-4d3d-deed-71f3755e4d57"
      },
      "source": [
        "# model parameters\n",
        "r_na = 40   # (Mohm)\n",
        "c = 1.0  # (nF)\n",
        "tau = r_na*c  # time constant (ms)\n",
        "v_na = 0  # equilibrium potential (mV)\n",
        "dt = 1.0  # simulation time step (ms)\n",
        "\n",
        "max_t  = 500  # Simulation time (ms)\n",
        "t = np.arange(0,max_t,dt)\n",
        "\n",
        "# input current trace \n",
        "i_max = 1.0\n",
        "i_trace = np.zeros(len(t))\n",
        "i_trace[170:300] = i_max\n",
        "\n",
        "# Euler solution\n",
        "v = np.zeros(len(i_trace))\n",
        "v[0] = 0\n",
        "for i in range(1,len(i_trace)):\n",
        "    dv = (-(v[i-1] - v_na) + r_na*i_trace[i])/tau\n",
        "    v[i] = v[i-1] + dv*dt\n",
        "\n",
        "# voltage trace\n",
        "plt.plot(v,'k')\n",
        "plt.ylim(top=100)\n",
        "plt.xlabel('Time (ms)')\n",
        "plt.ylabel('Membrane Potential')\n",
        "plt.title('Voltage Single Channel')\n",
        "plt.show()\n",
        "\n",
        "# input current trace\n",
        "plt.plot(i_trace,'b')\n",
        "plt.ylim(top=2.0)\n",
        "plt.xlabel('Time (ms)')\n",
        "plt.ylabel('Input Current')\n",
        "plt.title('Current Single Channel')\n",
        "plt.show()"
      ],
      "execution_count": null,
      "outputs": [
        {
          "output_type": "display_data",
          "data": {
            "text/plain": [
              "<Figure size 432x288 with 1 Axes>"
            ],
            "image/png": "[encoded data removed]"
          },
          "metadata": {
            "needs_background": "light"
          }
        },
        {
          "output_type": "display_data",
          "data": {
            "text/plain": [
              "<Figure size 432x288 with 1 Axes>"
            ],
            "image/png": "[encoded data removed]"
          },
          "metadata": {
            "needs_background": "light"
          }
        }
      ]
    },
    {
      "cell_type": "markdown",
      "metadata": {
        "id": "sgFCJ4LCeb0a"
      },
      "source": [
        "### Voltage Gated Channels\n",
        "To simulate a spike we have to add a key detail into our model that allows for our neuron voltage pattern to spike after reaching a certain threshold. The key here is carefully calibrated **voltage gated channels**. As seen in lecture, these channels propoagate the action potetional down the axon by allowing ion flow when certain potential thresholds are reached.\n",
        "\n",
        "From the model above we used resistors to represent ion channels. A voltage gated channel therefore changes properties of this **resistor** based on the voltage.\n",
        "\n",
        "#### Hodgkin-Huxley Model\n",
        "The Hodgkin-Huxley is a popular neuronal model that uses the ideas we developed. The model contains a leakage channel and channels for sodium (Na) and potassium (K). These three channels are in parrallel each with its own battery (equilibrium potential) for that specific type of ion.\n",
        "\n",
        "The main difference is that the sodium and potassium channels are open with different **probabilities**.\n",
        "\n",
        "For potassium channels we can define a channel have 4 sub parts that all must be open for the channel to allow passage. The probability a sub part is open is defined as **n** therefore\n",
        "$$ P(K) \\sim n^4$$\n",
        "Or the probability a certain channel is open. Using this idea and the law of large numbers we can think of this value as the proportion of channels open. So where does the voltage come in to play? \n",
        "\n",
        "This **n** value is actually defined by another **differential** of two rate functions that define transitions in states for different voltages.\n",
        "\n",
        "$$\\frac{dn}{dt} = \\alpha_n(V)(1-n) - \\beta_n(V)(n)$$\n",
        "\n",
        "Alpha describes transitions from on to off and beta is off to on (do you see why?). In whole this expression is **probabilistic model** used to describe whole population proportions (neat!). As we've seen above, open potassium channels are denoted by proportion **n**. Open sodium channels are denoted by **m** however a special **h** proportion denotes open inactivation gates. When an inactivation gate is closed ions cannot go through an open sodium gate. Using some real values lets graph these proportions.\n",
        "\n",
        "\n",
        "*   m: potassium channel\n",
        "*   n: sodium channel (excititory)\n",
        "*   h: sodium channel (inhibitory)\n",
        "\n",
        "\n",
        "\n",
        "\n",
        "\n",
        "\n",
        "\n"
      ]
    },
    {
      "cell_type": "code",
      "metadata": {
        "colab": {
          "base_uri": "https://localhost:8080/",
          "height": 312
        },
        "id": "aHuSCyNxnj3O",
        "outputId": "971a2b3c-0a01-42f8-8fa6-3ecab72e494f"
      },
      "source": [
        "V = np.arange(-80.0,80,0.01)\n",
        "\n",
        "alpha_n = (0.1 - 0.01*V)/(np.exp(1-0.1*V)-1)\n",
        "alpha_m = (2.5 - 0.1*V)/(np.exp(2.5 - 0.1*V)-1)\n",
        "alpha_h = 0.07*np.exp(-V/20.0)\n",
        "\n",
        "beta_n  = 0.125*np.exp(-V/80.0)\n",
        "beta_m  = 4.0*np.exp(-V/18.0)\n",
        "beta_h   = 1.0/(np.exp(3 - 0.1*V) + 1)\n",
        "\n",
        "tau_n = 1/(alpha_n + beta_n)\n",
        "inf_n = alpha_n*tau_n\n",
        "\n",
        "tau_m = 1/(alpha_m + beta_m)\n",
        "inf_m = alpha_m*tau_m \n",
        "\n",
        "tau_h = 1/(alpha_h + beta_h)\n",
        "inf_h = alpha_h*tau_h\n",
        "\n",
        "plt.clf()\n",
        "plt.subplot(1,2,1)\n",
        "plt.plot(V,inf_n)\n",
        "plt.plot(V,inf_m)\n",
        "plt.plot(V,inf_h)\n",
        "plt.title('Equilibrium States')\n",
        "plt.xlabel('Voltage (mV)')\n",
        "plt.subplot(1,2,2)\n",
        "plt.plot(V,tau_n)\n",
        "plt.plot(V,tau_m)\n",
        "plt.plot(V,tau_h)\n",
        "plt.title('Time Constants')\n",
        "plt.xlabel('Voltage (mV)')\n",
        "plt.legend(['n','m','h'])"
      ],
      "execution_count": null,
      "outputs": [
        {
          "output_type": "execute_result",
          "data": {
            "text/plain": [
              "<matplotlib.legend.Legend at 0x7fc2337e3950>"
            ]
          },
          "metadata": {},
          "execution_count": 3
        },
        {
          "output_type": "display_data",
          "data": {
            "text/plain": [
              "<Figure size 432x288 with 2 Axes>"
            ],
            "image/png": "[encoded data removed]"
          },
          "metadata": {
            "needs_background": "light"
          }
        }
      ]
    },
    {
      "cell_type": "markdown",
      "metadata": {
        "id": "3farGaBonjlq"
      },
      "source": [
        "Following the graphs a basic intution can be gained about the origin of a spike. The equilibrium voltage of the graphs above is 0.\n",
        "\n",
        "*   As voltage increases sodium channels and potassium channels are more likely to open and sodium has a very low time constant.\n",
        "*   As voltage increases sodium inactivation gates are more likely to be closed but with a high time constant making the proportion decrease slowly.\n",
        "*   **Sodium gates open faster then inactivation gates close**\n",
        "\n",
        "This means that there must be a **spike** or in other words a place where positive voltage leads to a more positive voltage that then peaks at some point to return to equilibrium.\n",
        "\n",
        "Integrating these gates we can now compile the full HH model. Note that resistance can also be written as **1/R** which are the **g** constants in front of terms.\n",
        "$$\n",
        "-C_m\\frac{dV}{dt} = g_L(V-V_L) + g_Kn^4(V-V_K) + g_{Na}m^3h(V-V_{Na}) - I_{ext}\n",
        "$$\n",
        "$$g_L = \\frac{1}{R_L}$$\n",
        "\n",
        "As you can see we have three channels bound by our proportion functions **m, n, h** and their respective equilibrium voltages and resistances.\n"
      ]
    },
    {
      "cell_type": "code",
      "metadata": {
        "id": "Olra8mV2u8zY"
      },
      "source": [
        "# Adapted from https://neuronaldynamics.epfl.ch/online/index.html\n",
        "# All values are relatively accurate\n",
        "# Equilibrium potentials\n",
        "V_Na = 115.0   # (mV)\n",
        "V_K  = -12.0   # (mV)\n",
        "V_L  = 10.6    # (mV)\n",
        "\n",
        "# Resistance Values (Conductance)\n",
        "g_Na = 120.0   # (mS)\n",
        "g_K  = 36.0    # (mS)\n",
        "g_L  = 0.3     # (mS)\n",
        "\n",
        "C_m = 1.0   # nF\n",
        "dt = 0.01      # [ms]\n",
        "T = 40         # [ms]\n",
        "t = np.arange(0,T,dt)\n",
        "\n",
        "# Initial Parameters\n",
        "V = np.zeros(len(t))\n",
        "n = np.zeros(len(t))\n",
        "m = np.zeros(len(t))\n",
        "h = np.zeros(len(t))\n",
        "\n",
        "# Current\n",
        "I_E = 0.0\n",
        "\n",
        "V[0] = 0.0\n",
        "h[0] = 0.59\n",
        "m[0] = 0.05\n",
        "n[0] = 0.31"
      ],
      "execution_count": null,
      "outputs": []
    },
    {
      "cell_type": "code",
      "metadata": {
        "colab": {
          "base_uri": "https://localhost:8080/",
          "height": 809
        },
        "id": "VBw_QTV0wRua",
        "outputId": "c25b6844-9317-423a-eac2-1aaa4a52e4f3"
      },
      "source": [
        "for i in range(1,len(t)):\n",
        "    # Set Current High at 10 ms\n",
        "    if i == 1000:\n",
        "        I_E = 10.0\n",
        "    # Set Current Low at 15 ms\n",
        "    if i == 1500:\n",
        "        I_E = 0.0\n",
        "        \n",
        "    # Alpha and Beta functions\n",
        "    alpha_n = (0.1 - 0.01*V[i-1]) / ( np.exp(1   - 0.1*V[i-1]) - 1)\n",
        "    alpha_m = (2.5 - 0.1 *V[i-1]) / ( np.exp(2.5 - 0.1*V[i-1]) - 1)\n",
        "    alpha_h = 0.07*np.exp(-V[i-1]/20.0)\n",
        "    \n",
        "    beta_n = 0.125*np.exp(-V[i-1]/80.0)\n",
        "    beta_m = 4.0 * np.exp(-V[i-1]/18.0)\n",
        "    beta_h = 1 / ( np.exp(3 - 0.1*V[i-1]) + 1)\n",
        "    \n",
        "    # Time Constants and Equilibrium Values\n",
        "    tau_n = 1.0/(alpha_n + beta_n)\n",
        "    equ_n = alpha_n*tau_n\n",
        "    \n",
        "    tau_m = 1.0/(alpha_m + beta_m)\n",
        "    equ_m = alpha_m*tau_m\n",
        "    \n",
        "    tau_h = 1.0/(alpha_h + beta_h)\n",
        "    equ_h = alpha_h*tau_h\n",
        "    \n",
        "    # Update the channel opening probabilities    \n",
        "    n[i]  = (1-dt/tau_n)*n[i-1] + (dt/tau_n)*equ_n\n",
        "    m[i]  = (1-dt/tau_m)*m[i-1] + (dt/tau_m)*equ_m\n",
        "    h[i]  = (1-dt/tau_h)*h[i-1] + (dt/tau_h)*equ_h\n",
        "\n",
        "    # Update the membrane potential equation\n",
        "    I_Na = g_Na*(m[i]**3)*h[i]  * (V[i-1]-V_Na)\n",
        "    I_K  = g_K *(n[i]**4)       * (V[i-1]-V_K)\n",
        "    I_L  = g_L                  * (V[i-1]-V_L)\n",
        "    \n",
        "    dv = -C_m*(I_Na + I_K + I_L - I_E)\n",
        "    V[i]  = V[i-1] + dv*dt\n",
        "    \n",
        "plt.plot(t,V)\n",
        "plt.title('Membrane potential')\n",
        "plt.show()\n",
        "\n",
        "plt.plot(t,n)\n",
        "plt.plot(t,m)\n",
        "plt.plot(t,h)\n",
        "plt.title('Gating variables')\n",
        "plt.legend(['n','m','h'])\n",
        "plt.show()\n",
        "\n",
        "plt.plot(t,g_Na*h * m**3)\n",
        "plt.plot(t,g_K*n**4)\n",
        "plt.title('Ionic currents')\n",
        "plt.legend(['Na','K'])\n",
        "plt.show()\n"
      ],
      "execution_count": null,
      "outputs": [
        {
          "output_type": "display_data",
          "data": {
            "text/plain": [
              "<Figure size 432x288 with 1 Axes>"
            ],
            "image/png": "[encoded data removed]"
          },
          "metadata": {
            "needs_background": "light"
          }
        },
        {
          "output_type": "display_data",
          "data": {
            "text/plain": [
              "<Figure size 432x288 with 1 Axes>"
            ],
            "image/png": "[encoded data removed]"
          },
          "metadata": {
            "needs_background": "light"
          }
        },
        {
          "output_type": "display_data",
          "data": {
            "text/plain": [
              "<Figure size 432x288 with 1 Axes>"
            ],
            "image/png": "[encoded data removed]"
          },
          "metadata": {
            "needs_background": "light"
          }
        }
      ]
    },
    {
      "cell_type": "markdown",
      "metadata": {
        "id": "2vKwWMG0gNHn"
      },
      "source": [
        "## Integrate and Fire\n",
        "The HH is a very detailed model but lots of time we only want a simple model that relatively closely models what we are trying to mimic.\n",
        "\n",
        "The following model roughly approximates the sphape of a neuron firing with some extra additions need to reach a peak.\n",
        "$$R*C \\frac{dv}{dt} = -(V - V_{eq}) + RI(t)$$\n",
        "$$\\tau = R*C$$\n",
        "\n",
        "More importantly the model is not finished. We still need the thresholding behavior therefore we define $V_{thres}$ as the potential to fire at, $V_{max}$ as firing max voltage and $V_{reset}$ as the reset voltage after firing.\n",
        "\n",
        "Finally, the $I(t)$ in the system represents then input current to the system. This includes inhibitory and exitatory signals to the system. We can play around with this input to model networks of neurons.\n",
        "\n"
      ]
    },
    {
      "cell_type": "code",
      "metadata": {
        "id": "ALxShaq8fzvv"
      },
      "source": [
        "import numpy as np\n",
        "import matplotlib.pyplot as plt\n",
        "%matplotlib inline\n",
        "\n",
        "\n",
        "R = 40.0  # Mohm\n",
        "C = 1.0   # nF\n",
        "tau = R*C # Membrane time constant\n",
        "\n",
        "V_thres    = -50.0  # Threshold potential (mV)\n",
        "V_max      =  40.0 # Spike potential     (mV)\n",
        "V_reset    = -70.0 # Reset potential     (mV)\n",
        "V_eq       = -60.0 # Resting potential   (mV)\n",
        "max_refrac = 3     # Steps in refractory period\n",
        "\n",
        "dt = 1 # Time step (ms)\n",
        "t = np.arange(0,500,dt) # Time\n",
        "V_trace = np.zeros(len(t)) # Voltage(mV)\n",
        "V_trace[0] = V_eq\n",
        "\n",
        "# define a current trace \n",
        "I_max = 1\n",
        "I_trace = np.zeros(len(t))\n",
        "I_trace[100:500] = I_max\n"
      ],
      "execution_count": null,
      "outputs": []
    },
    {
      "cell_type": "markdown",
      "metadata": {
        "id": "_vfUbRuNjrGL"
      },
      "source": [
        "With these parameters we can now run a simulation. The current trace above is our input runs from"
      ]
    },
    {
      "cell_type": "code",
      "metadata": {
        "colab": {
          "base_uri": "https://localhost:8080/",
          "height": 313
        },
        "id": "JAogdrtvj2aZ",
        "outputId": "1333435c-1ecb-490f-c40b-d5fe31e2ffd0"
      },
      "source": [
        "refrac = 0  # If larger than 0, the neuron is in the refractory period\n",
        "for i in range(1,len(t)):\n",
        "    # 1. Check if the neuron is in the refractory period\n",
        "    if refrac > 0:\n",
        "        V_trace[i] = V_reset\n",
        "        refrac -= 1\n",
        "        continue\n",
        "    \n",
        "    # 2. Update the membrane potential\n",
        "    V  = V_trace[i-1]\n",
        "    dv = (-(V - V_eq) + R*I_trace[i])/tau\n",
        "    V_trace[i] = V + dv*dt\n",
        "    \n",
        "    # 3. Check for spikes\n",
        "    if V_trace[i] > V_thres:\n",
        "        V_trace[i] = V_max\n",
        "        refrac = max_refrac\n",
        "\n",
        "plt.plot(t,V_trace)\n",
        "plt.axhline(V_thres,linestyle = '--',color='k')\n",
        "plt.gca().set(xlabel='Time [ms]',ylabel='Membrane Potential')\n",
        "plt.title('Integrate and Fire neuron')"
      ],
      "execution_count": null,
      "outputs": [
        {
          "output_type": "execute_result",
          "data": {
            "text/plain": [
              "Text(0.5, 1.0, 'Integrate and Fire neuron')"
            ]
          },
          "metadata": {},
          "execution_count": 42
        },
        {
          "output_type": "display_data",
          "data": {
            "image/png": "[encoded data removed]",
            "text/plain": [
              "<Figure size 432x288 with 1 Axes>"
            ]
          },
          "metadata": {
            "needs_background": "light"
          }
        }
      ]
    },
    {
      "cell_type": "markdown",
      "metadata": {
        "id": "8yhReKrt0wN-"
      },
      "source": [
        "### **Conceptual Questions**\n",
        "1. Describe the key parts of a neuronal membrane that were touched upon in this notebook and roughly describe their circuit component equivalents.\n",
        "2. Describe how spikes occur due to changes in the **m, n and h** proportion parameters. \n",
        "3. In our simple single channel model, what values controlled how **fast** the voltage peaked and what values controlled the value the voltage **peaked at**?"
      ]
    },
    {
      "cell_type": "markdown",
      "metadata": {
        "id": "q0u-Ii_v1HQY"
      },
      "source": [
        "Answer Here!"
      ]
    },
    {
      "cell_type": "markdown",
      "metadata": {
        "id": "pZDIYsxZ2G_s"
      },
      "source": [
        "### **Coding Challenge**\n",
        "Use any model above (or create your own!) to simulate a series of neurons. Use the voltage trace of one neuron as the current input trace to another neuron. Voltage and current are proportionally related by a constant which you can set arbitrarily. (Note: This model does not have to be completely biologically accurate)"
      ]
    },
    {
      "cell_type": "code",
      "metadata": {
        "id": "jpBynWY93LLr"
      },
      "source": [],
      "execution_count": null,
      "outputs": []
    },
    {
      "cell_type": "markdown",
      "metadata": {
        "id": "hV7e12vr4AIQ"
      },
      "source": [
        "## **Submission**\n",
        "Under *file* go to *print* and *save as pdf*. Then upload this pdf into the **Student Folder** (our GDrive Folder) into the **Submissions** Folder. Link:https://drive.google.com/drive/folders/1dU8XGxZmcahuL6z3lg4HudBsKxwWoEGc?usp=sharing\n",
        "\n",
        "While you're there, checkout the awesome work your peers have completed!"
      ]
    }
  ]
}